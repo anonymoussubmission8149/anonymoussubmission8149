{
 "cells": [
  {
   "cell_type": "code",
   "execution_count": 12,
   "id": "48b483f3",
   "metadata": {
    "ExecuteTime": {
     "end_time": "2022-02-01T13:29:03.384911Z",
     "start_time": "2022-02-01T13:29:03.380483Z"
    }
   },
   "outputs": [],
   "source": [
    "import numpy as np\n",
    "from numpy.random import normal, uniform, multivariate_normal\n",
    "\n",
    "from sklearn.linear_model import Ridge as Ridge\n",
    "from sklearn.metrics import r2_score\n",
    "from sklearn.metrics import mean_squared_error as mse\n",
    "from sklearn.model_selection import train_test_split as tts\n",
    "from sklearn.utils import shuffle\n",
    "from sklearn.preprocessing import StandardScaler"
   ]
  },
  {
   "cell_type": "code",
   "execution_count": 13,
   "id": "21fc7e0d",
   "metadata": {
    "ExecuteTime": {
     "end_time": "2022-02-01T13:29:03.393800Z",
     "start_time": "2022-02-01T13:29:03.389868Z"
    }
   },
   "outputs": [],
   "source": [
    "import matplotlib.pyplot as plt\n",
    "%matplotlib inline"
   ]
  },
  {
   "cell_type": "code",
   "execution_count": 24,
   "id": "663e646e",
   "metadata": {
    "ExecuteTime": {
     "end_time": "2022-02-01T14:24:49.023225Z",
     "start_time": "2022-02-01T14:24:49.020423Z"
    }
   },
   "outputs": [],
   "source": [
    "result_repository = \"./outputs/criterion_ablation_\"\n",
    "output_figure_path = \"./figures/\"\n",
    "figure_name = \"MLRvsCV_CriterionComparison.pdf\""
   ]
  },
  {
   "cell_type": "code",
   "execution_count": 15,
   "id": "3edea5ee",
   "metadata": {
    "ExecuteTime": {
     "end_time": "2022-02-01T13:29:04.926487Z",
     "start_time": "2022-02-01T13:29:04.921593Z"
    }
   },
   "outputs": [],
   "source": [
    "n_simulations = 100 # number of times the experiment is repeated\n",
    "split_seed = 0 #train test split seed\n",
    "permut_seed = 0 #mlr label shuffling seed\n",
    "\n",
    "train_size = 100\n",
    "test_size = 1000\n",
    "n, p =  test_size+train_size, 80\n",
    "normalize_X = True\n",
    "normalize_y = True\n",
    "alphas = np.geomspace(1e1,1e5,100)\n",
    "folds = 10 #averaging over 10 Kfold cross-validation evaluations"
   ]
  },
  {
   "cell_type": "code",
   "execution_count": 16,
   "id": "3f490ab7",
   "metadata": {
    "ExecuteTime": {
     "end_time": "2022-02-01T13:29:05.536203Z",
     "start_time": "2022-02-01T13:29:05.530377Z"
    },
    "code_folding": []
   },
   "outputs": [],
   "source": [
    "def generate_correlated_linear_model(n, p, seed):\n",
    "    np.random.seed(seed)\n",
    "    noise = 100\n",
    "    coef_toeplitz = 0.8\n",
    "    cov = (coef_toeplitz**uniform(1,2, size = (p,p))) * (np.ones((p,p))-np.eye(p)) + np.eye(p)\n",
    "    X = multivariate_normal(mean = np.zeros(p), cov = cov, size = n)\n",
    "    coef = np.ones((p))\n",
    "    y = X.dot(coef) + normal(scale = noise, size = n)\n",
    "    return X, y, cov"
   ]
  },
  {
   "cell_type": "code",
   "execution_count": 17,
   "id": "dcc8e9ac",
   "metadata": {
    "ExecuteTime": {
     "end_time": "2022-02-01T13:32:55.552503Z",
     "start_time": "2022-02-01T13:29:05.837552Z"
    },
    "scrolled": true
   },
   "outputs": [
    {
     "name": "stderr",
     "output_type": "stream",
     "text": [
      "/opt/tljh/user/envs/MLR/lib/python3.7/site-packages/ipykernel_launcher.py:6: RuntimeWarning: covariance is not positive-semidefinite.\n",
      "  \n",
      "/opt/tljh/user/envs/MLR/lib/python3.7/site-packages/ipykernel_launcher.py:6: RuntimeWarning: covariance is not positive-semidefinite.\n",
      "  \n",
      "/opt/tljh/user/envs/MLR/lib/python3.7/site-packages/ipykernel_launcher.py:6: RuntimeWarning: covariance is not positive-semidefinite.\n",
      "  \n",
      "/opt/tljh/user/envs/MLR/lib/python3.7/site-packages/ipykernel_launcher.py:6: RuntimeWarning: covariance is not positive-semidefinite.\n",
      "  \n",
      "/opt/tljh/user/envs/MLR/lib/python3.7/site-packages/ipykernel_launcher.py:6: RuntimeWarning: covariance is not positive-semidefinite.\n",
      "  \n",
      "/opt/tljh/user/envs/MLR/lib/python3.7/site-packages/ipykernel_launcher.py:6: RuntimeWarning: covariance is not positive-semidefinite.\n",
      "  \n",
      "/opt/tljh/user/envs/MLR/lib/python3.7/site-packages/ipykernel_launcher.py:6: RuntimeWarning: covariance is not positive-semidefinite.\n",
      "  \n",
      "/opt/tljh/user/envs/MLR/lib/python3.7/site-packages/ipykernel_launcher.py:6: RuntimeWarning: covariance is not positive-semidefinite.\n",
      "  \n",
      "/opt/tljh/user/envs/MLR/lib/python3.7/site-packages/ipykernel_launcher.py:6: RuntimeWarning: covariance is not positive-semidefinite.\n",
      "  \n",
      "/opt/tljh/user/envs/MLR/lib/python3.7/site-packages/ipykernel_launcher.py:6: RuntimeWarning: covariance is not positive-semidefinite.\n",
      "  \n",
      "/opt/tljh/user/envs/MLR/lib/python3.7/site-packages/ipykernel_launcher.py:6: RuntimeWarning: covariance is not positive-semidefinite.\n",
      "  \n",
      "/opt/tljh/user/envs/MLR/lib/python3.7/site-packages/ipykernel_launcher.py:6: RuntimeWarning: covariance is not positive-semidefinite.\n",
      "  \n",
      "/opt/tljh/user/envs/MLR/lib/python3.7/site-packages/ipykernel_launcher.py:6: RuntimeWarning: covariance is not positive-semidefinite.\n",
      "  \n",
      "/opt/tljh/user/envs/MLR/lib/python3.7/site-packages/ipykernel_launcher.py:6: RuntimeWarning: covariance is not positive-semidefinite.\n",
      "  \n",
      "/opt/tljh/user/envs/MLR/lib/python3.7/site-packages/ipykernel_launcher.py:6: RuntimeWarning: covariance is not positive-semidefinite.\n",
      "  \n",
      "/opt/tljh/user/envs/MLR/lib/python3.7/site-packages/ipykernel_launcher.py:6: RuntimeWarning: covariance is not positive-semidefinite.\n",
      "  \n",
      "/opt/tljh/user/envs/MLR/lib/python3.7/site-packages/ipykernel_launcher.py:6: RuntimeWarning: covariance is not positive-semidefinite.\n",
      "  \n",
      "/opt/tljh/user/envs/MLR/lib/python3.7/site-packages/ipykernel_launcher.py:6: RuntimeWarning: covariance is not positive-semidefinite.\n",
      "  \n",
      "/opt/tljh/user/envs/MLR/lib/python3.7/site-packages/ipykernel_launcher.py:6: RuntimeWarning: covariance is not positive-semidefinite.\n",
      "  \n",
      "/opt/tljh/user/envs/MLR/lib/python3.7/site-packages/ipykernel_launcher.py:6: RuntimeWarning: covariance is not positive-semidefinite.\n",
      "  \n",
      "/opt/tljh/user/envs/MLR/lib/python3.7/site-packages/ipykernel_launcher.py:6: RuntimeWarning: covariance is not positive-semidefinite.\n",
      "  \n",
      "/opt/tljh/user/envs/MLR/lib/python3.7/site-packages/ipykernel_launcher.py:6: RuntimeWarning: covariance is not positive-semidefinite.\n",
      "  \n",
      "/opt/tljh/user/envs/MLR/lib/python3.7/site-packages/ipykernel_launcher.py:6: RuntimeWarning: covariance is not positive-semidefinite.\n",
      "  \n",
      "/opt/tljh/user/envs/MLR/lib/python3.7/site-packages/ipykernel_launcher.py:6: RuntimeWarning: covariance is not positive-semidefinite.\n",
      "  \n",
      "/opt/tljh/user/envs/MLR/lib/python3.7/site-packages/ipykernel_launcher.py:6: RuntimeWarning: covariance is not positive-semidefinite.\n",
      "  \n",
      "/opt/tljh/user/envs/MLR/lib/python3.7/site-packages/ipykernel_launcher.py:6: RuntimeWarning: covariance is not positive-semidefinite.\n",
      "  \n",
      "/opt/tljh/user/envs/MLR/lib/python3.7/site-packages/ipykernel_launcher.py:6: RuntimeWarning: covariance is not positive-semidefinite.\n",
      "  \n",
      "/opt/tljh/user/envs/MLR/lib/python3.7/site-packages/ipykernel_launcher.py:6: RuntimeWarning: covariance is not positive-semidefinite.\n",
      "  \n",
      "/opt/tljh/user/envs/MLR/lib/python3.7/site-packages/ipykernel_launcher.py:6: RuntimeWarning: covariance is not positive-semidefinite.\n",
      "  \n",
      "/opt/tljh/user/envs/MLR/lib/python3.7/site-packages/ipykernel_launcher.py:6: RuntimeWarning: covariance is not positive-semidefinite.\n",
      "  \n",
      "/opt/tljh/user/envs/MLR/lib/python3.7/site-packages/ipykernel_launcher.py:6: RuntimeWarning: covariance is not positive-semidefinite.\n",
      "  \n",
      "/opt/tljh/user/envs/MLR/lib/python3.7/site-packages/ipykernel_launcher.py:6: RuntimeWarning: covariance is not positive-semidefinite.\n",
      "  \n",
      "/opt/tljh/user/envs/MLR/lib/python3.7/site-packages/ipykernel_launcher.py:6: RuntimeWarning: covariance is not positive-semidefinite.\n",
      "  \n",
      "/opt/tljh/user/envs/MLR/lib/python3.7/site-packages/ipykernel_launcher.py:6: RuntimeWarning: covariance is not positive-semidefinite.\n",
      "  \n",
      "/opt/tljh/user/envs/MLR/lib/python3.7/site-packages/ipykernel_launcher.py:6: RuntimeWarning: covariance is not positive-semidefinite.\n",
      "  \n",
      "/opt/tljh/user/envs/MLR/lib/python3.7/site-packages/ipykernel_launcher.py:6: RuntimeWarning: covariance is not positive-semidefinite.\n",
      "  \n",
      "/opt/tljh/user/envs/MLR/lib/python3.7/site-packages/ipykernel_launcher.py:6: RuntimeWarning: covariance is not positive-semidefinite.\n",
      "  \n",
      "/opt/tljh/user/envs/MLR/lib/python3.7/site-packages/ipykernel_launcher.py:6: RuntimeWarning: covariance is not positive-semidefinite.\n",
      "  \n",
      "/opt/tljh/user/envs/MLR/lib/python3.7/site-packages/ipykernel_launcher.py:6: RuntimeWarning: covariance is not positive-semidefinite.\n",
      "  \n",
      "/opt/tljh/user/envs/MLR/lib/python3.7/site-packages/ipykernel_launcher.py:6: RuntimeWarning: covariance is not positive-semidefinite.\n",
      "  \n",
      "/opt/tljh/user/envs/MLR/lib/python3.7/site-packages/ipykernel_launcher.py:6: RuntimeWarning: covariance is not positive-semidefinite.\n",
      "  \n",
      "/opt/tljh/user/envs/MLR/lib/python3.7/site-packages/ipykernel_launcher.py:6: RuntimeWarning: covariance is not positive-semidefinite.\n",
      "  \n",
      "/opt/tljh/user/envs/MLR/lib/python3.7/site-packages/ipykernel_launcher.py:6: RuntimeWarning: covariance is not positive-semidefinite.\n",
      "  \n",
      "/opt/tljh/user/envs/MLR/lib/python3.7/site-packages/ipykernel_launcher.py:6: RuntimeWarning: covariance is not positive-semidefinite.\n",
      "  \n",
      "/opt/tljh/user/envs/MLR/lib/python3.7/site-packages/ipykernel_launcher.py:6: RuntimeWarning: covariance is not positive-semidefinite.\n",
      "  \n",
      "/opt/tljh/user/envs/MLR/lib/python3.7/site-packages/ipykernel_launcher.py:6: RuntimeWarning: covariance is not positive-semidefinite.\n",
      "  \n",
      "/opt/tljh/user/envs/MLR/lib/python3.7/site-packages/ipykernel_launcher.py:6: RuntimeWarning: covariance is not positive-semidefinite.\n",
      "  \n",
      "/opt/tljh/user/envs/MLR/lib/python3.7/site-packages/ipykernel_launcher.py:6: RuntimeWarning: covariance is not positive-semidefinite.\n",
      "  \n",
      "/opt/tljh/user/envs/MLR/lib/python3.7/site-packages/ipykernel_launcher.py:6: RuntimeWarning: covariance is not positive-semidefinite.\n",
      "  \n",
      "/opt/tljh/user/envs/MLR/lib/python3.7/site-packages/ipykernel_launcher.py:6: RuntimeWarning: covariance is not positive-semidefinite.\n",
      "  \n",
      "/opt/tljh/user/envs/MLR/lib/python3.7/site-packages/ipykernel_launcher.py:6: RuntimeWarning: covariance is not positive-semidefinite.\n",
      "  \n",
      "/opt/tljh/user/envs/MLR/lib/python3.7/site-packages/ipykernel_launcher.py:6: RuntimeWarning: covariance is not positive-semidefinite.\n",
      "  \n",
      "/opt/tljh/user/envs/MLR/lib/python3.7/site-packages/ipykernel_launcher.py:6: RuntimeWarning: covariance is not positive-semidefinite.\n",
      "  \n",
      "/opt/tljh/user/envs/MLR/lib/python3.7/site-packages/ipykernel_launcher.py:6: RuntimeWarning: covariance is not positive-semidefinite.\n",
      "  \n",
      "/opt/tljh/user/envs/MLR/lib/python3.7/site-packages/ipykernel_launcher.py:6: RuntimeWarning: covariance is not positive-semidefinite.\n",
      "  \n",
      "/opt/tljh/user/envs/MLR/lib/python3.7/site-packages/ipykernel_launcher.py:6: RuntimeWarning: covariance is not positive-semidefinite.\n",
      "  \n",
      "/opt/tljh/user/envs/MLR/lib/python3.7/site-packages/ipykernel_launcher.py:6: RuntimeWarning: covariance is not positive-semidefinite.\n",
      "  \n",
      "/opt/tljh/user/envs/MLR/lib/python3.7/site-packages/ipykernel_launcher.py:6: RuntimeWarning: covariance is not positive-semidefinite.\n",
      "  \n",
      "/opt/tljh/user/envs/MLR/lib/python3.7/site-packages/ipykernel_launcher.py:6: RuntimeWarning: covariance is not positive-semidefinite.\n",
      "  \n",
      "/opt/tljh/user/envs/MLR/lib/python3.7/site-packages/ipykernel_launcher.py:6: RuntimeWarning: covariance is not positive-semidefinite.\n",
      "  \n"
     ]
    },
    {
     "name": "stderr",
     "output_type": "stream",
     "text": [
      "/opt/tljh/user/envs/MLR/lib/python3.7/site-packages/ipykernel_launcher.py:6: RuntimeWarning: covariance is not positive-semidefinite.\n",
      "  \n",
      "/opt/tljh/user/envs/MLR/lib/python3.7/site-packages/ipykernel_launcher.py:6: RuntimeWarning: covariance is not positive-semidefinite.\n",
      "  \n",
      "/opt/tljh/user/envs/MLR/lib/python3.7/site-packages/ipykernel_launcher.py:6: RuntimeWarning: covariance is not positive-semidefinite.\n",
      "  \n",
      "/opt/tljh/user/envs/MLR/lib/python3.7/site-packages/ipykernel_launcher.py:6: RuntimeWarning: covariance is not positive-semidefinite.\n",
      "  \n",
      "/opt/tljh/user/envs/MLR/lib/python3.7/site-packages/ipykernel_launcher.py:6: RuntimeWarning: covariance is not positive-semidefinite.\n",
      "  \n",
      "/opt/tljh/user/envs/MLR/lib/python3.7/site-packages/ipykernel_launcher.py:6: RuntimeWarning: covariance is not positive-semidefinite.\n",
      "  \n",
      "/opt/tljh/user/envs/MLR/lib/python3.7/site-packages/ipykernel_launcher.py:6: RuntimeWarning: covariance is not positive-semidefinite.\n",
      "  \n",
      "/opt/tljh/user/envs/MLR/lib/python3.7/site-packages/ipykernel_launcher.py:6: RuntimeWarning: covariance is not positive-semidefinite.\n",
      "  \n",
      "/opt/tljh/user/envs/MLR/lib/python3.7/site-packages/ipykernel_launcher.py:6: RuntimeWarning: covariance is not positive-semidefinite.\n",
      "  \n",
      "/opt/tljh/user/envs/MLR/lib/python3.7/site-packages/ipykernel_launcher.py:6: RuntimeWarning: covariance is not positive-semidefinite.\n",
      "  \n",
      "/opt/tljh/user/envs/MLR/lib/python3.7/site-packages/ipykernel_launcher.py:6: RuntimeWarning: covariance is not positive-semidefinite.\n",
      "  \n",
      "/opt/tljh/user/envs/MLR/lib/python3.7/site-packages/ipykernel_launcher.py:6: RuntimeWarning: covariance is not positive-semidefinite.\n",
      "  \n",
      "/opt/tljh/user/envs/MLR/lib/python3.7/site-packages/ipykernel_launcher.py:6: RuntimeWarning: covariance is not positive-semidefinite.\n",
      "  \n",
      "/opt/tljh/user/envs/MLR/lib/python3.7/site-packages/ipykernel_launcher.py:6: RuntimeWarning: covariance is not positive-semidefinite.\n",
      "  \n",
      "/opt/tljh/user/envs/MLR/lib/python3.7/site-packages/ipykernel_launcher.py:6: RuntimeWarning: covariance is not positive-semidefinite.\n",
      "  \n",
      "/opt/tljh/user/envs/MLR/lib/python3.7/site-packages/ipykernel_launcher.py:6: RuntimeWarning: covariance is not positive-semidefinite.\n",
      "  \n",
      "/opt/tljh/user/envs/MLR/lib/python3.7/site-packages/ipykernel_launcher.py:6: RuntimeWarning: covariance is not positive-semidefinite.\n",
      "  \n",
      "/opt/tljh/user/envs/MLR/lib/python3.7/site-packages/ipykernel_launcher.py:6: RuntimeWarning: covariance is not positive-semidefinite.\n",
      "  \n",
      "/opt/tljh/user/envs/MLR/lib/python3.7/site-packages/ipykernel_launcher.py:6: RuntimeWarning: covariance is not positive-semidefinite.\n",
      "  \n",
      "/opt/tljh/user/envs/MLR/lib/python3.7/site-packages/ipykernel_launcher.py:6: RuntimeWarning: covariance is not positive-semidefinite.\n",
      "  \n",
      "/opt/tljh/user/envs/MLR/lib/python3.7/site-packages/ipykernel_launcher.py:6: RuntimeWarning: covariance is not positive-semidefinite.\n",
      "  \n",
      "/opt/tljh/user/envs/MLR/lib/python3.7/site-packages/ipykernel_launcher.py:6: RuntimeWarning: covariance is not positive-semidefinite.\n",
      "  \n",
      "/opt/tljh/user/envs/MLR/lib/python3.7/site-packages/ipykernel_launcher.py:6: RuntimeWarning: covariance is not positive-semidefinite.\n",
      "  \n",
      "/opt/tljh/user/envs/MLR/lib/python3.7/site-packages/ipykernel_launcher.py:6: RuntimeWarning: covariance is not positive-semidefinite.\n",
      "  \n",
      "/opt/tljh/user/envs/MLR/lib/python3.7/site-packages/ipykernel_launcher.py:6: RuntimeWarning: covariance is not positive-semidefinite.\n",
      "  \n",
      "/opt/tljh/user/envs/MLR/lib/python3.7/site-packages/ipykernel_launcher.py:6: RuntimeWarning: covariance is not positive-semidefinite.\n",
      "  \n",
      "/opt/tljh/user/envs/MLR/lib/python3.7/site-packages/ipykernel_launcher.py:6: RuntimeWarning: covariance is not positive-semidefinite.\n",
      "  \n",
      "/opt/tljh/user/envs/MLR/lib/python3.7/site-packages/ipykernel_launcher.py:6: RuntimeWarning: covariance is not positive-semidefinite.\n",
      "  \n",
      "/opt/tljh/user/envs/MLR/lib/python3.7/site-packages/ipykernel_launcher.py:6: RuntimeWarning: covariance is not positive-semidefinite.\n",
      "  \n",
      "/opt/tljh/user/envs/MLR/lib/python3.7/site-packages/ipykernel_launcher.py:6: RuntimeWarning: covariance is not positive-semidefinite.\n",
      "  \n",
      "/opt/tljh/user/envs/MLR/lib/python3.7/site-packages/ipykernel_launcher.py:6: RuntimeWarning: covariance is not positive-semidefinite.\n",
      "  \n",
      "/opt/tljh/user/envs/MLR/lib/python3.7/site-packages/ipykernel_launcher.py:6: RuntimeWarning: covariance is not positive-semidefinite.\n",
      "  \n",
      "/opt/tljh/user/envs/MLR/lib/python3.7/site-packages/ipykernel_launcher.py:6: RuntimeWarning: covariance is not positive-semidefinite.\n",
      "  \n",
      "/opt/tljh/user/envs/MLR/lib/python3.7/site-packages/ipykernel_launcher.py:6: RuntimeWarning: covariance is not positive-semidefinite.\n",
      "  \n",
      "/opt/tljh/user/envs/MLR/lib/python3.7/site-packages/ipykernel_launcher.py:6: RuntimeWarning: covariance is not positive-semidefinite.\n",
      "  \n",
      "/opt/tljh/user/envs/MLR/lib/python3.7/site-packages/ipykernel_launcher.py:6: RuntimeWarning: covariance is not positive-semidefinite.\n",
      "  \n",
      "/opt/tljh/user/envs/MLR/lib/python3.7/site-packages/ipykernel_launcher.py:6: RuntimeWarning: covariance is not positive-semidefinite.\n",
      "  \n",
      "/opt/tljh/user/envs/MLR/lib/python3.7/site-packages/ipykernel_launcher.py:6: RuntimeWarning: covariance is not positive-semidefinite.\n",
      "  \n",
      "/opt/tljh/user/envs/MLR/lib/python3.7/site-packages/ipykernel_launcher.py:6: RuntimeWarning: covariance is not positive-semidefinite.\n",
      "  \n",
      "/opt/tljh/user/envs/MLR/lib/python3.7/site-packages/ipykernel_launcher.py:6: RuntimeWarning: covariance is not positive-semidefinite.\n",
      "  \n"
     ]
    }
   ],
   "source": [
    "# Ridge scikit-learn parameters\n",
    "fit_intercept = True\n",
    "normalize = False\n",
    "\n",
    "perf_test, perf_cvs, perf_perms = [], [], []\n",
    "for seed in range(n_simulations):\n",
    "    X, y, cov = generate_correlated_linear_model(n, p, seed)\n",
    "    if normalize_X: X = StandardScaler().fit_transform(X)\n",
    "    if normalize_y:\n",
    "        m, s = y.mean(), y.std()\n",
    "        y_rescaled = (y - m) / s\n",
    "    else:\n",
    "        y_rescaled = y\n",
    "\n",
    "    kwargs = {}\n",
    "    if split_seed or type(split_seed)== type(0):\n",
    "        kwargs[\"random_state\"] = split_seed\n",
    "        np.random.seed(split_seed)\n",
    "    X_train, X_test, y_train, y_test = tts(X, y_rescaled, train_size = train_size, **kwargs)\n",
    "    \n",
    "    n_permuts = 16 #ONLY FOR REPRODUCTIBILITY IN TERMS OF RANDOM SEED, BUT REPORTED RESULTS ARE BASED ON ONLY ONE SET OF RANDOM PERMUTATIONS\n",
    "    only_seed_used = 0 #USING 16 PERMUTATION VECTORS FOR DEEP LEARNING BUT NOT FOR THIS EXPERIMENT, SEE THEOREM 1.\n",
    "    y_perms = np.zeros((n_permuts, len(y_train)))\n",
    "    for permut_seed in range(n_permuts):\n",
    "        y_perms[permut_seed] = shuffle(y_train, random_state = permut_seed)\n",
    "    mse_perms = np.zeros((len(alphas), n_permuts))\n",
    "    mse_train = np.zeros(len(alphas))\n",
    "    mse_test = np.zeros(len(alphas))\n",
    "    mse_cvs = np.zeros((len(alphas),folds))\n",
    "    r2_test = np.zeros(len(alphas))\n",
    "    r2_train = np.zeros(len(alphas))\n",
    "\n",
    "    for i, alpha in enumerate(alphas):\n",
    "        reg = Ridge(alpha = alpha,  fit_intercept=fit_intercept, normalize=normalize,random_state=42)\n",
    "        reg.fit(X_train, y_train)\n",
    "        pred_train = reg.predict(X_train)\n",
    "        pred_test = reg.predict(X_test)\n",
    "\n",
    "        mse_train[i] = mse(y_train, pred_train)\n",
    "        mse_test[i] = mse(y_test, pred_test)\n",
    "        r2_test[i] = r2_score(y_test, pred_test)\n",
    "        r2_train[i] = r2_score(y_train, pred_train)\n",
    "\n",
    "        for fold in range(folds):\n",
    "            X_train_cv, X_test_cv, y_train_cv, y_test_cv = tts(X_train, y_train, train_size = 1. - (1/folds), random_state = fold)\n",
    "            reg = Ridge(alpha = alpha,  fit_intercept=fit_intercept, normalize=normalize,random_state=42)\n",
    "            reg.fit(X_train_cv, y_train_cv)\n",
    "            pred_cv = reg.predict(X_test_cv)\n",
    "            mse_cvs[i, fold] = mse(y_test_cv, pred_cv)\n",
    "        for permut_seed in range(n_permuts):#USELESS LOOP BESIDES FIRST PASS, ONLY KEPT FOR REPRODUCTIBILITY\n",
    "            y_perm = y_perms[permut_seed]\n",
    "            reg = Ridge(alpha = alpha, fit_intercept=fit_intercept, normalize=normalize,random_state=42)\n",
    "            reg.fit(X_train, y_perm)\n",
    "            pred_perm = reg.predict(X_train)\n",
    "            mse_perms[i, permut_seed] = mse(y_perm, pred_perm)\n",
    "    argmin_test = np.argmin(mse_test)\n",
    "    argmin_cvs = np.argmin(mse_cvs.mean(axis=-1))\n",
    "    #ONLY THE FIRST RANDOM PERMUTATION VECTOR IS USED, OTHERS ARE DISCARDED\n",
    "    argmin_perms = np.argmin(mse_train - mse_perms[:,only_seed_used])\n",
    "    perf_test.append(mse_test[argmin_test])\n",
    "    perf_cvs.append(mse_test[argmin_cvs])\n",
    "    perf_perms.append(mse_test[argmin_perms])\n",
    "\n",
    "    if seed == 0:#keep seed 0 results for plot\n",
    "        plotted_mse_test = mse_test\n",
    "        plotted_mse_train = mse_train\n",
    "        plotted_mse_cvs = mse_cvs\n",
    "        plotted_mse_perms = mse_perms    "
   ]
  },
  {
   "cell_type": "code",
   "execution_count": 20,
   "id": "a961e7be",
   "metadata": {
    "ExecuteTime": {
     "end_time": "2022-02-01T13:44:57.877122Z",
     "start_time": "2022-02-01T13:44:57.869084Z"
    }
   },
   "outputs": [
    {
     "name": "stdout",
     "output_type": "stream",
     "text": [
      "Results averaged over: 100 random seeds\n",
      "optimal test RMSE: 0.7061169607942872\n",
      "MLR criterion test RMSE: 0.7128178158404265\n",
      "CV criterion test RMSE: 0.7221513770143744\n",
      "MLR criterion added error: 0.00670085504613921\n",
      "CV criterion added error 0.016034416220087097\n"
     ]
    }
   ],
   "source": [
    "avg_added_error_cvs = np.array(perf_cvs) - np.array(perf_test)\n",
    "avg_added_error_perms = np.array(perf_perms) - np.array(perf_test)\n",
    "printed_results = {\"Results averaged over:\":str(n_simulations)+\" random seeds\",\n",
    "    \"optimal test RMSE:\" : np.array(perf_test).mean(), \n",
    "    \"MLR criterion test RMSE:\" : np.array(perf_perms).mean(),\n",
    "    \"CV criterion test RMSE:\" : np.array(perf_cvs).mean(),\n",
    "    \"MLR criterion added error:\": avg_added_error_perms.mean(),\n",
    "    \"CV criterion added error\":avg_added_error_cvs.mean()\n",
    "    }\n",
    "for key, value in printed_results.items():\n",
    "    print(key, value)"
   ]
  },
  {
   "cell_type": "code",
   "execution_count": 25,
   "id": "ebefe629",
   "metadata": {
    "ExecuteTime": {
     "end_time": "2022-02-01T14:24:53.475117Z",
     "start_time": "2022-02-01T14:24:53.468087Z"
    }
   },
   "outputs": [],
   "source": [
    "np.save(result_repository+\"AllSeedArgmin_MLR_RMSE\", np.array(perf_perms))\n",
    "np.save(result_repository+\"AllSeedArgmin_CV_RMSE\", np.array(perf_cvs))\n",
    "np.save(result_repository+\"AllSeedArgmin_GEN_RMSE\", np.array(perf_test))\n",
    "np.save(result_repository+\"Seed0\"+\"_Alphas\", alphas)\n",
    "np.save(result_repository+\"Seed0\"+\"_MLR_RMSE\", plotted_mse_perms)\n",
    "np.save(result_repository+\"Seed0\"+\"_CV_RMSE\", plotted_mse_cvs)\n",
    "np.save(result_repository+\"Seed0\"+\"_Train_RMSE\", plotted_mse_train)\n",
    "np.save(result_repository+\"Seed0\"+\"_GEN_RMSE\", plotted_mse_test)"
   ]
  },
  {
   "cell_type": "code",
   "execution_count": 22,
   "id": "348d19b9",
   "metadata": {
    "ExecuteTime": {
     "end_time": "2022-02-01T13:45:04.035825Z",
     "start_time": "2022-02-01T13:45:04.032436Z"
    }
   },
   "outputs": [],
   "source": [
    "def rescale(vec):\n",
    "    mi, ma, v = np.min(vec), np.max(vec), np.array(vec)\n",
    "    return (v - mi)/ (ma - mi)"
   ]
  },
  {
   "cell_type": "code",
   "execution_count": 23,
   "id": "c2a629b2",
   "metadata": {
    "ExecuteTime": {
     "end_time": "2022-02-01T13:45:06.527241Z",
     "start_time": "2022-02-01T13:45:05.242127Z"
    }
   },
   "outputs": [
    {
     "data": {
      "image/png": "[encoded data removed]",
      "text/plain": [
       "<Figure size 576x288 with 1 Axes>"
      ]
     },
     "metadata": {
      "needs_background": "light"
     },
     "output_type": "display_data"
    }
   ],
   "source": [
    "add_title = False #No title on ICML plots\n",
    "avg_added_error_cvs = np.array(perf_cvs) - np.array(perf_test)\n",
    "avg_added_error_perms = np.array(perf_perms) - np.array(perf_test)\n",
    "\n",
    "plt.rcParams[\"figure.figsize\"] = (8,4)\n",
    "if add_title: plt.title(r'Ridge $\\lambda$ HPO criterion: MLR vs Cross-Validation Argmins')\n",
    "\n",
    "epsilon_logscale = 1e-5 #used to avoid 0s when using min-max scaling and logscale plots\n",
    "mlr_criterion = rescale(plotted_mse_train - plotted_mse_perms.mean(axis=1)) + epsilon_logscale\n",
    "cv_criterion = rescale(plotted_mse_cvs.mean(axis=-1)) + epsilon_logscale\n",
    "gen_perf = rescale(plotted_mse_test) + epsilon_logscale\n",
    "\n",
    "avg_perf_perms, avg_perf_cvs, avg_perf_test, = np.array(perf_perms).mean(), np.array(perf_cvs).mean(), np.array(perf_test).mean()\n",
    "linestyle2 = \"-\"\n",
    "plot_func = \"loglog\"\n",
    "eval(\"plt.\"+plot_func)([1e5], [1], label = \"MLR Criterion\", \n",
    "             linewidth = 2.5, linestyle = linestyle2, color = \"tab:blue\")#plotting empty curve to have different label and plot order to improve visibility\n",
    "eval(\"plt.\"+plot_func)(alphas, cv_criterion, label = \"Cross-Validation\", \n",
    "             linewidth = 2.5, linestyle = linestyle2, color = \"tab:orange\")\n",
    "eval(\"plt.\"+plot_func)(alphas, gen_perf, label = \"Generalization MSE\", \n",
    "             linewidth = 2.5, linestyle = linestyle2, color = \"tab:green\")\n",
    "eval(\"plt.\"+plot_func)(alphas, mlr_criterion,\n",
    "             linewidth = 2.5, linestyle = linestyle2, color = \"tab:blue\")\n",
    "plt.xlabel(r'Ridge Hyper-Parameter Value: $\\lambda$')\n",
    "plt.ylabel(\"min/max normalization\")\n",
    "plt.grid(which = \"both\", axis = \"x\")\n",
    "plt.grid(which = \"major\", axis = \"y\", linewidth = 1)\n",
    "plt.grid(which = \"major\", axis = \"x\", linewidth = 2, color = \"k\")\n",
    "_ = plt.legend(prop={'size': 11.5}, framealpha=1.)\n",
    "plt.savefig(output_figure_path + figure_name, dpi='figure', format=\"pdf\",bbox_inches='tight')"
   ]
  },
  {
   "cell_type": "code",
   "execution_count": null,
   "id": "da31b41f",
   "metadata": {},
   "outputs": [],
   "source": []
  }
 ],
 "metadata": {
  "kernelspec": {
   "display_name": "Python [conda env:MLR]",
   "language": "python",
   "name": "conda-env-MLR-py"
  },
  "language_info": {
   "codemirror_mode": {
    "name": "ipython",
    "version": 3
   },
   "file_extension": ".py",
   "mimetype": "text/x-python",
   "name": "python",
   "nbconvert_exporter": "python",
   "pygments_lexer": "ipython3",
   "version": "3.7.11"
  }
 },
 "nbformat": 4,
 "nbformat_minor": 5
}
