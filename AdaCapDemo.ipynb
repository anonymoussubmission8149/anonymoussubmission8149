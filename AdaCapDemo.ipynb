{
 "cells": [
  {
   "cell_type": "code",
   "execution_count": 1,
   "id": "a98e1f60",
   "metadata": {
    "ExecuteTime": {
     "end_time": "2022-02-01T17:13:42.549306Z",
     "start_time": "2022-02-01T17:13:41.638123Z"
    }
   },
   "outputs": [],
   "source": [
    "import AdaCapNet\n",
    "seed = 0"
   ]
  },
  {
   "cell_type": "markdown",
   "id": "8f4293bf",
   "metadata": {},
   "source": [
    "# Get boston dataset"
   ]
  },
  {
   "cell_type": "code",
   "execution_count": 2,
   "id": "ca9ce139",
   "metadata": {
    "ExecuteTime": {
     "end_time": "2022-02-01T17:13:42.580712Z",
     "start_time": "2022-02-01T17:13:42.554795Z"
    }
   },
   "outputs": [],
   "source": [
    "import numpy as np\n",
    "from sklearn.preprocessing import StandardScaler\n",
    "from sklearn.model_selection import train_test_split as tts\n",
    "from sklearn.datasets import load_boston as lb\n",
    "def prepare_dataset(X, y, train_size = 0.8, normalize_X = True, seed= False):\n",
    "    kwargs = {}\n",
    "    if seed or type(seed)== type(0):\n",
    "        kwargs[\"random_state\"] = seed\n",
    "        np.random.seed(seed)\n",
    "    if normalize_X: X = StandardScaler().fit_transform(X)\n",
    "    X_train, X_test, y_train, y_test = tts(X, y, train_size = train_size, **kwargs)\n",
    "    return X_train, X_test, y_train, y_test\n",
    "def prepare_boston(train_size = 0.8, seed= 0, normalize_X = True, standardize_y = True):\n",
    "    X,y = lb(return_X_y=True)\n",
    "    if standardize_y: y = (y - y.mean())/y.std()\n",
    "    X_train, X_test, y_train, y_test = prepare_dataset(X, y, train_size = train_size , seed=seed, normalize_X = normalize_X)\n",
    "    return X_train, X_test, y_train, y_test"
   ]
  },
  {
   "cell_type": "code",
   "execution_count": 3,
   "id": "a4a03ad6",
   "metadata": {
    "ExecuteTime": {
     "end_time": "2022-02-01T17:13:42.588360Z",
     "start_time": "2022-02-01T17:13:42.581953Z"
    }
   },
   "outputs": [],
   "source": [
    "X_train, X_test, y_train, y_test = prepare_boston(seed = seed, standardize_y = True)"
   ]
  },
  {
   "cell_type": "markdown",
   "id": "a5d308b8",
   "metadata": {},
   "source": [
    "# Pick FFNN architecture"
   ]
  },
  {
   "cell_type": "markdown",
   "id": "8fd6adb5",
   "metadata": {},
   "source": [
    "## simple MLP"
   ]
  },
  {
   "cell_type": "code",
   "execution_count": 4,
   "id": "0385dbb6",
   "metadata": {
    "ExecuteTime": {
     "end_time": "2022-02-01T17:13:43.272874Z",
     "start_time": "2022-02-01T17:13:43.268926Z"
    }
   },
   "outputs": [],
   "source": [
    "import architectures\n",
    "architecture = architectures.DenseLayers\n",
    "architecture_parameters =  {\"width\":512,\"depth\":2,\"n_features\":X_train.shape[1]}\n",
    "architecture_parameters[\"output\"] = 1 #regression"
   ]
  },
  {
   "cell_type": "markdown",
   "id": "a5edcd42",
   "metadata": {},
   "source": [
    "## duplicate but without output layer"
   ]
  },
  {
   "cell_type": "code",
   "execution_count": 5,
   "id": "ef5fb382",
   "metadata": {
    "ExecuteTime": {
     "end_time": "2022-02-01T17:13:44.808136Z",
     "start_time": "2022-02-01T17:13:44.805148Z"
    }
   },
   "outputs": [],
   "source": [
    "from copy import deepcopy\n",
    "hidden_layers_parameters = deepcopy(architecture_parameters)\n",
    "hidden_layers_parameters[\"output\"] = 0"
   ]
  },
  {
   "cell_type": "markdown",
   "id": "5fecbd0c",
   "metadata": {},
   "source": [
    "# Evaluate RF, MLP, AdaCap"
   ]
  },
  {
   "cell_type": "markdown",
   "id": "48face33",
   "metadata": {},
   "source": [
    "## Check Random Forest Performance"
   ]
  },
  {
   "cell_type": "code",
   "execution_count": 6,
   "id": "6524a65e",
   "metadata": {
    "ExecuteTime": {
     "end_time": "2022-02-01T17:13:48.735364Z",
     "start_time": "2022-02-01T17:13:46.648363Z"
    }
   },
   "outputs": [
    {
     "name": "stdout",
     "output_type": "stream",
     "text": [
      "RF R2-score : 0.7687240238093025\n"
     ]
    }
   ],
   "source": [
    "from sklearn.ensemble import RandomForestRegressor as RF\n",
    "reg = RF(n_estimators = 1000, random_state = seed)\n",
    "reg.fit(X_train,y_train)\n",
    "print(\"RF\",\"R2-score :\", reg.score(X_test, y_test))\n",
    "del reg"
   ]
  },
  {
   "cell_type": "markdown",
   "id": "e1315ad3",
   "metadata": {},
   "source": [
    "## Init Fit Predict simple MLP"
   ]
  },
  {
   "cell_type": "code",
   "execution_count": 7,
   "id": "66c73eb7",
   "metadata": {
    "ExecuteTime": {
     "end_time": "2022-02-01T17:13:50.969449Z",
     "start_time": "2022-02-01T17:13:48.736611Z"
    }
   },
   "outputs": [
    {
     "name": "stdout",
     "output_type": "stream",
     "text": [
      "MLP: R2-score : 0.7669409780204398\n"
     ]
    }
   ],
   "source": [
    "use_AdaCap = False\n",
    "reg = AdaCapNet.AdaCapNetRegressor(hidden_nn = architecture, hidden_params = architecture_parameters, closeform_parameter_init = use_AdaCap, random_state = seed, )\n",
    "reg.fit(X_train,y_train)\n",
    "print(\"MLP:\",\"R2-score :\",reg.score(X_test, y_test))\n",
    "reg.delete_model_weights() #else gpu memory leaks\n",
    "del reg"
   ]
  },
  {
   "cell_type": "markdown",
   "id": "3a81b541",
   "metadata": {},
   "source": [
    "## Init Fit Predict simple AdaCapMLP"
   ]
  },
  {
   "cell_type": "code",
   "execution_count": 8,
   "id": "d2a20ec0",
   "metadata": {
    "ExecuteTime": {
     "end_time": "2022-02-01T17:13:52.082798Z",
     "start_time": "2022-02-01T17:13:50.971031Z"
    }
   },
   "outputs": [
    {
     "name": "stdout",
     "output_type": "stream",
     "text": [
      "AdaCapMLP: R2-score : 0.7803205151159722\n"
     ]
    }
   ],
   "source": [
    "use_AdaCap = True\n",
    "reg = AdaCapNet.AdaCapNetRegressor(hidden_nn = architecture, hidden_params = hidden_layers_parameters, closeform_parameter_init = \"max_variation\", random_state = seed)\n",
    "reg.fit(X_train,y_train)\n",
    "print(\"AdaCapMLP:\",\"R2-score :\",reg.score(X_test, y_test))\n",
    "reg.delete_model_weights() #else gpu memory leaks\n",
    "del reg"
   ]
  },
  {
   "cell_type": "markdown",
   "id": "90415d94",
   "metadata": {},
   "source": [
    "# Pick architecture and parameters from benchmarked architectures"
   ]
  },
  {
   "cell_type": "code",
   "execution_count": 9,
   "id": "9863b002",
   "metadata": {
    "ExecuteTime": {
     "end_time": "2022-02-01T17:13:52.104063Z",
     "start_time": "2022-02-01T17:13:52.084433Z"
    }
   },
   "outputs": [],
   "source": [
    "from benchmarked_architectures import *\n",
    "parameter_set = deepcopy(eval(\"adacapnetresblock\"))\n",
    "parameter_set[\"hidden_params\"][\"n_features\"] = X_train.shape[1] #you always need to specify this information in advance"
   ]
  },
  {
   "cell_type": "code",
   "execution_count": 10,
   "id": "f0185c52",
   "metadata": {
    "ExecuteTime": {
     "end_time": "2022-02-01T17:13:55.568970Z",
     "start_time": "2022-02-01T17:13:52.105568Z"
    }
   },
   "outputs": [
    {
     "name": "stdout",
     "output_type": "stream",
     "text": [
      "AdaCapResblock: R2-score : 0.805933525040707\n"
     ]
    }
   ],
   "source": [
    "use_AdaCap = True\n",
    "reg = AdaCapNet.AdaCapNetRegressor(random_state = seed, **parameter_set)\n",
    "reg.fit(X_train,y_train)\n",
    "print(\"AdaCapResblock:\",\"R2-score :\",reg.score(X_test, y_test))\n",
    "reg.delete_model_weights() #else gpu memory leaks\n",
    "del reg"
   ]
  },
  {
   "cell_type": "code",
   "execution_count": null,
   "id": "c0950718",
   "metadata": {},
   "outputs": [],
   "source": []
  }
 ],
 "metadata": {
  "kernelspec": {
   "display_name": "Python [conda env:MLR]",
   "language": "python",
   "name": "conda-env-MLR-py"
  },
  "language_info": {
   "codemirror_mode": {
    "name": "ipython",
    "version": 3
   },
   "file_extension": ".py",
   "mimetype": "text/x-python",
   "name": "python",
   "nbconvert_exporter": "python",
   "pygments_lexer": "ipython3",
   "version": "3.7.11"
  }
 },
 "nbformat": 4,
 "nbformat_minor": 5
}
